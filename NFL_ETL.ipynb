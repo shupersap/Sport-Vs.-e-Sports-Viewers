{
 "cells": [
  {
   "cell_type": "code",
   "execution_count": 1,
   "id": "56ac6083",
   "metadata": {},
   "outputs": [],
   "source": [
    "# Imports\n",
    "from splinter import Browser\n",
    "from bs4 import BeautifulSoup as soup\n",
    "from webdriver_manager.chrome import ChromeDriverManager\n",
    "import json\n",
    "import pandas as pd"
   ]
  },
  {
   "cell_type": "code",
   "execution_count": 2,
   "id": "7681d43e",
   "metadata": {},
   "outputs": [],
   "source": [
    "# Create dictionary of every table needed for our dataset\n",
    "nfl_2017 = dict()\n",
    "for num in range(6, 23):\n",
    "    nfl_2017[num] =\\\n",
    "    pd.read_html('https://www.sportsmediawatch.com/2017-nfl-tv-ratings-viewership/',skiprows=1)[num]"
   ]
  },
  {
   "cell_type": "code",
   "execution_count": 3,
   "id": "8d9544e4",
   "metadata": {},
   "outputs": [],
   "source": [
    "# Drop the unneccesary row from each individual DF that contains it\n",
    "nfl_2017[7] = nfl_2017[7].drop(nfl_2017[7].index[7])"
   ]
  },
  {
   "cell_type": "code",
   "execution_count": 4,
   "id": "4c45b37e",
   "metadata": {},
   "outputs": [],
   "source": [
    "nfl_2017[8] = nfl_2017[8].drop(nfl_2017[8].index[8])"
   ]
  },
  {
   "cell_type": "code",
   "execution_count": 5,
   "id": "472d87f4",
   "metadata": {},
   "outputs": [],
   "source": [
    "nfl_2017[9] = nfl_2017[9].drop(nfl_2017[9].index[6])"
   ]
  },
  {
   "cell_type": "code",
   "execution_count": 6,
   "id": "01c14d6e",
   "metadata": {},
   "outputs": [],
   "source": [
    "nfl_2017[10] = nfl_2017[10].drop(nfl_2017[10].index[6])"
   ]
  },
  {
   "cell_type": "code",
   "execution_count": 7,
   "id": "016e465d",
   "metadata": {},
   "outputs": [],
   "source": [
    "nfl_2017[12] = nfl_2017[12].drop(nfl_2017[12].index[6])"
   ]
  },
  {
   "cell_type": "code",
   "execution_count": 8,
   "id": "241207c4",
   "metadata": {},
   "outputs": [],
   "source": [
    "nfl_2017[13] = nfl_2017[13].drop(nfl_2017[13].index[6])"
   ]
  },
  {
   "cell_type": "code",
   "execution_count": 9,
   "id": "334c501a",
   "metadata": {},
   "outputs": [],
   "source": [
    "nfl_2017[15] = nfl_2017[15].drop(nfl_2017[15].index[7])"
   ]
  },
  {
   "cell_type": "code",
   "execution_count": 10,
   "id": "2b75b2b4",
   "metadata": {},
   "outputs": [],
   "source": [
    "nfl_2017[16] = nfl_2017[16].drop(nfl_2017[16].index[6])"
   ]
  },
  {
   "cell_type": "code",
   "execution_count": 11,
   "id": "b4651d5c",
   "metadata": {},
   "outputs": [],
   "source": [
    "nfl_2017[17] = nfl_2017[17].drop(nfl_2017[17].index[6])"
   ]
  },
  {
   "cell_type": "code",
   "execution_count": 12,
   "id": "95af33c3",
   "metadata": {},
   "outputs": [],
   "source": [
    "nfl_2017[18] = nfl_2017[18].drop(nfl_2017[18].index[6])"
   ]
  },
  {
   "cell_type": "code",
   "execution_count": 13,
   "id": "4e0370b9",
   "metadata": {},
   "outputs": [],
   "source": [
    "nfl_2017[19] = nfl_2017[19].drop(nfl_2017[19].index[7])"
   ]
  },
  {
   "cell_type": "code",
   "execution_count": 14,
   "id": "6e6e9f05",
   "metadata": {},
   "outputs": [],
   "source": [
    "nfl_2017[20] = nfl_2017[20].drop(nfl_2017[20].index[6])"
   ]
  },
  {
   "cell_type": "code",
   "execution_count": 15,
   "id": "d2cce44c",
   "metadata": {},
   "outputs": [],
   "source": [
    "nfl_2017[21] = nfl_2017[21].drop(nfl_2017[21].index[6])"
   ]
  },
  {
   "cell_type": "code",
   "execution_count": 16,
   "id": "fa791dba",
   "metadata": {},
   "outputs": [],
   "source": [
    "# Delete unnecessary columns\n",
    "for i in range(6,23):\n",
    "    del nfl_2017[i][0]\n",
    "    del nfl_2017[i][2]\n",
    "    del nfl_2017[i][3]\n",
    "    del nfl_2017[i][4]\n",
    "    del nfl_2017[i][6]\n",
    "    del nfl_2017[i][7]"
   ]
  },
  {
   "cell_type": "code",
   "execution_count": 17,
   "id": "f1067e83",
   "metadata": {},
   "outputs": [],
   "source": [
    "# Create empty list to fill with each individual dataframe\n",
    "df_list = []\n",
    "for i in range(6,23):\n",
    "    df_list.append(nfl_2017[i])"
   ]
  },
  {
   "cell_type": "code",
   "execution_count": 18,
   "id": "ce0decf2",
   "metadata": {},
   "outputs": [],
   "source": [
    "# Combine each dataframe into one\n",
    "full_2017 = pd.concat(df_list)\n",
    "# Rename columns\n",
    "full_2017.rename(columns = {1:'Game', 5:'Viewers (in Millions)'}, inplace = True)"
   ]
  },
  {
   "cell_type": "code",
   "execution_count": 19,
   "id": "574b6a3d",
   "metadata": {},
   "outputs": [
    {
     "name": "stderr",
     "output_type": "stream",
     "text": [
      "C:\\anaconda\\envs\\PythonData\\lib\\site-packages\\ipykernel_launcher.py:3: FutureWarning: The default value of regex will change from True to False in a future version. In addition, single character regular expressions will *not* be treated as literal strings when regex=True.\n",
      "  This is separate from the ipykernel package so we can avoid doing imports until\n",
      "C:\\anaconda\\envs\\PythonData\\lib\\site-packages\\ipykernel_launcher.py:4: FutureWarning: The default value of regex will change from True to False in a future version. In addition, single character regular expressions will *not* be treated as literal strings when regex=True.\n",
      "  after removing the cwd from sys.path.\n"
     ]
    }
   ],
   "source": [
    "# Remove extra viewer data to only one per row and clean data to allow float datatype\n",
    "full_2017[\"Viewers (in Millions)\"] = full_2017[\"Viewers (in Millions)\"].str.split(\"M\", expand=True)[0]\n",
    "full_2017[\"Viewers (in Millions)\"] = full_2017[\"Viewers (in Millions)\"].str.replace(\"(\",\"\")\n",
    "full_2017[\"Viewers (in Millions)\"] = full_2017[\"Viewers (in Millions)\"].str.replace(\")\",\"\")\n",
    "full_2017[\"Viewers (in Millions)\"] = full_2017[\"Viewers (in Millions)\"].astype(float)"
   ]
  },
  {
   "cell_type": "code",
   "execution_count": 20,
   "id": "4a1569ff",
   "metadata": {},
   "outputs": [],
   "source": [
    "# Create dictionary of every table needed for our dataset\n",
    "nfl_2018 = dict()\n",
    "for num in range(5, 22):\n",
    "    nfl_2018[num] =\\\n",
    "    pd.read_html('https://www.sportsmediawatch.com/2018-nfl-television-ratings-viewership/',skiprows=1)[num]"
   ]
  },
  {
   "cell_type": "code",
   "execution_count": 21,
   "id": "9e9af741",
   "metadata": {},
   "outputs": [],
   "source": [
    "# Delete unnecessary columns\n",
    "for i in range(5,22):\n",
    "    del nfl_2018[i][0]\n",
    "    del nfl_2018[i][2]\n",
    "    del nfl_2018[i][3]\n",
    "    del nfl_2018[i][4]\n",
    "    del nfl_2018[i][6]\n",
    "    del nfl_2018[i][7]"
   ]
  },
  {
   "cell_type": "code",
   "execution_count": 22,
   "id": "e6dcbc13",
   "metadata": {},
   "outputs": [],
   "source": [
    "# Create empty list to fill with each individual dataframe\n",
    "df_list2018 = []\n",
    "for i in range(5,22):\n",
    "    df_list2018.append(nfl_2018[i])"
   ]
  },
  {
   "cell_type": "code",
   "execution_count": 23,
   "id": "972a7875",
   "metadata": {},
   "outputs": [],
   "source": [
    "# Combine each dataframe into one\n",
    "full_2018 = pd.concat(df_list2018)\n",
    "# Rename columns\n",
    "full_2018.rename(columns = {1:'Game', 5:'Viewers (in Millions)'}, inplace = True)"
   ]
  },
  {
   "cell_type": "code",
   "execution_count": 24,
   "id": "e15d399c",
   "metadata": {},
   "outputs": [
    {
     "name": "stderr",
     "output_type": "stream",
     "text": [
      "C:\\anaconda\\envs\\PythonData\\lib\\site-packages\\ipykernel_launcher.py:3: FutureWarning: The default value of regex will change from True to False in a future version. In addition, single character regular expressions will *not* be treated as literal strings when regex=True.\n",
      "  This is separate from the ipykernel package so we can avoid doing imports until\n",
      "C:\\anaconda\\envs\\PythonData\\lib\\site-packages\\ipykernel_launcher.py:4: FutureWarning: The default value of regex will change from True to False in a future version. In addition, single character regular expressions will *not* be treated as literal strings when regex=True.\n",
      "  after removing the cwd from sys.path.\n"
     ]
    }
   ],
   "source": [
    "# Remove extra viewer data to only one per row and clean data to allow float datatype\n",
    "full_2018[\"Viewers (in Millions)\"] = full_2018[\"Viewers (in Millions)\"].str.split(\"M\", expand=True)[0]\n",
    "full_2018[\"Viewers (in Millions)\"] = full_2018[\"Viewers (in Millions)\"].str.replace(\"(\",\"\")\n",
    "full_2018[\"Viewers (in Millions)\"] = full_2018[\"Viewers (in Millions)\"].str.replace(\")\",\"\")\n",
    "full_2018[\"Viewers (in Millions)\"] = full_2018[\"Viewers (in Millions)\"].astype(float)"
   ]
  },
  {
   "cell_type": "code",
   "execution_count": 25,
   "id": "62586cfd",
   "metadata": {},
   "outputs": [],
   "source": [
    "# Create dictionary of every table needed for our dataset\n",
    "nfl_2019 = dict()\n",
    "for num in range(5, 22):\n",
    "    nfl_2019[num] =\\\n",
    "    pd.read_html('https://www.sportsmediawatch.com/2019-nfl-television-ratings-viewership/',skiprows=1)[num]"
   ]
  },
  {
   "cell_type": "code",
   "execution_count": 26,
   "id": "1d70e602",
   "metadata": {},
   "outputs": [],
   "source": [
    "# Delete unnecessary columns\n",
    "for i in range(5,22):\n",
    "    del nfl_2019[i][0]\n",
    "    del nfl_2019[i][2]\n",
    "    del nfl_2019[i][3]\n",
    "    del nfl_2019[i][4]\n",
    "    del nfl_2019[i][6]\n",
    "    del nfl_2019[i][7]"
   ]
  },
  {
   "cell_type": "code",
   "execution_count": 27,
   "id": "9c012b3a",
   "metadata": {},
   "outputs": [],
   "source": [
    "# Create empty list to fill with each individual dataframe\n",
    "df_list2019 = []\n",
    "for i in range(5,22):\n",
    "    df_list2019.append(nfl_2019[i])"
   ]
  },
  {
   "cell_type": "code",
   "execution_count": 28,
   "id": "21a125c6",
   "metadata": {},
   "outputs": [],
   "source": [
    "# Combine each dataframe into one\n",
    "full_2019 = pd.concat(df_list2019)\n",
    "# Rename columns\n",
    "full_2019.rename(columns = {1:'Game', 5:'Viewers (in Millions)'}, inplace = True)"
   ]
  },
  {
   "cell_type": "code",
   "execution_count": 29,
   "id": "6dd46efa",
   "metadata": {},
   "outputs": [],
   "source": [
    "# Remove \"M\" from values to allow float datatype\n",
    "full_2019[\"Viewers (in Millions)\"] = full_2019[\"Viewers (in Millions)\"].str.split(\"M\", expand=True)[0]\n",
    "full_2019[\"Viewers (in Millions)\"] = full_2019[\"Viewers (in Millions)\"].astype(float)"
   ]
  },
  {
   "cell_type": "code",
   "execution_count": 30,
   "id": "231265f3",
   "metadata": {},
   "outputs": [],
   "source": [
    "# Create dictionary of every table needed for our dataset\n",
    "nfl_2020 = dict()\n",
    "for num in range(4, 15):\n",
    "    nfl_2020[num] =\\\n",
    "    pd.read_html('https://www.sportsmediawatch.com/2020-nfl-ratings-page/',skiprows=0)[num]\n",
    "for num in range(15, 21):\n",
    "    nfl_2020[num] =\\\n",
    "    pd.read_html('https://www.sportsmediawatch.com/2020-nfl-ratings-page/',skiprows=1)[num]"
   ]
  },
  {
   "cell_type": "code",
   "execution_count": 31,
   "id": "9fbf1a7a",
   "metadata": {},
   "outputs": [],
   "source": [
    "# Give all columns the same name to allow for looping\n",
    "for i in range(4,15):\n",
    "    nfl_2020[i].columns = [0,1,2,3,4,5,6,7,8,9]\n",
    "# Delete unnecessary columns\n",
    "for i in range(4,21):\n",
    "    del nfl_2020[i][0]\n",
    "    del nfl_2020[i][2]\n",
    "    del nfl_2020[i][3]\n",
    "    del nfl_2020[i][4]\n",
    "    del nfl_2020[i][6]\n",
    "    del nfl_2020[i][7]\n",
    "    del nfl_2020[i][8]\n",
    "    del nfl_2020[i][9]"
   ]
  },
  {
   "cell_type": "code",
   "execution_count": 32,
   "id": "dd8a2b82",
   "metadata": {},
   "outputs": [],
   "source": [
    "# Create empty list to fill with each individual dataframe\n",
    "df_list2020 = []\n",
    "for i in range(4,21):\n",
    "    df_list2020.append(nfl_2020[i])"
   ]
  },
  {
   "cell_type": "code",
   "execution_count": 33,
   "id": "d564d94d",
   "metadata": {},
   "outputs": [],
   "source": [
    "# Combine each dataframe into one\n",
    "full_2020 = pd.concat(df_list2020)\n",
    "# Rename columns\n",
    "full_2020.rename(columns = {1:'Game', 5:'Viewers (in Millions)'}, inplace = True)"
   ]
  },
  {
   "cell_type": "code",
   "execution_count": 34,
   "id": "a5875bfb",
   "metadata": {},
   "outputs": [],
   "source": [
    "# Remove \"M\" from values to allow float datatype\n",
    "full_2020[\"Viewers (in Millions)\"] = full_2020[\"Viewers (in Millions)\"].str.split(\"M\", expand=True)[0]\n",
    "full_2020[\"Viewers (in Millions)\"] = full_2020[\"Viewers (in Millions)\"].astype(float)"
   ]
  },
  {
   "cell_type": "code",
   "execution_count": 35,
   "id": "6d8a279f",
   "metadata": {},
   "outputs": [],
   "source": [
    "nfl_2021 = dict()\n",
    "for num in range(4, 21):\n",
    "    nfl_2021[num] =\\\n",
    "    pd.read_html('https://www.sportsmediawatch.com/2021-nfl-ratings-page/',skiprows=0)[num]"
   ]
  },
  {
   "cell_type": "code",
   "execution_count": 36,
   "id": "752194ab",
   "metadata": {},
   "outputs": [],
   "source": [
    "# Give all columns the same name to allow for looping\n",
    "for i in range(4,21):\n",
    "    nfl_2021[i].columns = [0,1,2,3,4,5,6,7,8,9]\n",
    "# Delete unnecessary columns\n",
    "for i in range(4,21):\n",
    "    del nfl_2021[i][0]\n",
    "    del nfl_2021[i][2]\n",
    "    del nfl_2021[i][3]\n",
    "    del nfl_2021[i][4]\n",
    "    del nfl_2021[i][6]\n",
    "    del nfl_2021[i][7]\n",
    "    del nfl_2021[i][8]\n",
    "    del nfl_2021[i][9]"
   ]
  },
  {
   "cell_type": "code",
   "execution_count": 41,
   "id": "3cd6d5b2",
   "metadata": {},
   "outputs": [],
   "source": [
    "# Drop row with unusable data (no viewer data)\n",
    "nfl_2021[15] = nfl_2021[15].drop([6])"
   ]
  },
  {
   "cell_type": "code",
   "execution_count": 42,
   "id": "0a50d43a",
   "metadata": {},
   "outputs": [],
   "source": [
    "# Create empty list to fill with each individual dataframe\n",
    "df_list2021 = []\n",
    "for i in range(4,21):\n",
    "    df_list2021.append(nfl_2021[i])"
   ]
  },
  {
   "cell_type": "code",
   "execution_count": 43,
   "id": "23612f55",
   "metadata": {},
   "outputs": [],
   "source": [
    "# Combine each dataframe into one\n",
    "full_2021 = pd.concat(df_list2021)\n",
    "# Rename columns\n",
    "full_2021.rename(columns = {1:'Game', 5:'Viewers (in Millions)'}, inplace = True)"
   ]
  },
  {
   "cell_type": "code",
   "execution_count": 44,
   "id": "9c6aee6b",
   "metadata": {},
   "outputs": [],
   "source": [
    "# Remove \"M\" from values to allow float datatype\n",
    "full_2021[\"Viewers (in Millions)\"] = full_2021[\"Viewers (in Millions)\"].str.split(\"M\", expand=True)[0]\n",
    "full_2021[\"Viewers (in Millions)\"] = full_2021[\"Viewers (in Millions)\"].astype(float)"
   ]
  },
  {
   "cell_type": "code",
   "execution_count": 48,
   "id": "48645c20",
   "metadata": {},
   "outputs": [],
   "source": [
    "# Add column to each dataframe that includes the year\n",
    "full_2017['Year'] = 2017\n",
    "full_2018['Year'] = 2018\n",
    "full_2019['Year'] = 2019\n",
    "full_2020['Year'] = 2020\n",
    "full_2021['Year'] = 2021"
   ]
  }
 ],
 "metadata": {
  "kernelspec": {
   "display_name": "PythonData",
   "language": "python",
   "name": "pythondata"
  },
  "language_info": {
   "codemirror_mode": {
    "name": "ipython",
    "version": 3
   },
   "file_extension": ".py",
   "mimetype": "text/x-python",
   "name": "python",
   "nbconvert_exporter": "python",
   "pygments_lexer": "ipython3",
   "version": "3.7.7"
  }
 },
 "nbformat": 4,
 "nbformat_minor": 5
}
